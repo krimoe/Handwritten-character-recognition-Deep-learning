{
  "nbformat": 4,
  "nbformat_minor": 0,
  "metadata": {
    "colab": {
      "name": "MNIST_with CNN.ipynb",
      "provenance": [],
      "collapsed_sections": [],
      "include_colab_link": true
    },
    "kernelspec": {
      "name": "python3",
      "display_name": "Python 3"
    },
    "language_info": {
      "name": "python"
    },
    "accelerator": "GPU",
    "gpuClass": "standard"
  },
  "cells": [
    {
      "cell_type": "markdown",
      "metadata": {
        "id": "view-in-github",
        "colab_type": "text"
      },
      "source": [
        "<a href=\"https://colab.research.google.com/github/krimoe/handwritten-digit-recognition-/blob/main/MNIST_with_CNN.ipynb\" target=\"_parent\"><img src=\"https://colab.research.google.com/assets/colab-badge.svg\" alt=\"Open In Colab\"/></a>"
      ]
    },
    {
      "cell_type": "code",
      "execution_count": null,
      "metadata": {
        "id": "iNo51zHWc8jH"
      },
      "outputs": [],
      "source": [
        "from keras.datasets.mnist import load_data\n",
        "import numpy as np\n",
        "from sklearn.model_selection import train_test_split\n",
        "import tensorflow as tf\n",
        "from tensorflow.keras.utils import to_categorical"
      ]
    },
    {
      "cell_type": "code",
      "source": [
        "# load the data - it returns 2 tuples of digits & labels - one for\n",
        "# the train set & the other for the test set\n",
        "(train_digits, train_labels), (test_digits, test_labels) = load_data()\n",
        "#  some variables...\n",
        "image_height = train_digits.shape[1]  \n",
        "image_width = train_digits.shape[2]\n",
        "num_channels = 1  # we have grayscale images\n",
        "# NOTE: image_height == image_width == 28\n",
        "# re-shape the images data\n",
        "train_data = np.reshape(train_digits, (train_digits.shape[0], image_height, image_width, num_channels))\n",
        "test_data = np.reshape(test_digits, (test_digits.shape[0],image_height, image_width, num_channels))\n",
        "# re-scale the image data to values between [0,1]\n",
        "train_data = train_data.astype('float32') / 255.\n",
        "test_data = test_data.astype('float32') / 255.\n",
        "\n",
        "# one-hot encode the labels - we have 10 output classes\n",
        "\n",
        "# so 3 -> [0 0 0 1 0 0 0 0 0 0], 5 -> [0 0 0 0 0 1 0 0 0 0] & so on\n",
        "num_classes = 10\n",
        "train_labels_cat = to_categorical(train_labels,num_classes)\n",
        "test_labels_cat = to_categorical(test_labels,num_classes)\n",
        "# split training set into training and validation\n",
        "train_data2, val_data,train_labels_cat2,  val_labels = train_test_split(train_data, train_labels_cat, test_size=0.1)"
      ],
      "metadata": {
        "id": "nGdxjUJSdhru"
      },
      "execution_count": null,
      "outputs": []
    },
    {
      "cell_type": "code",
      "source": [
        "from keras.models import Sequential\n",
        "from keras.layers import Conv2D, MaxPooling2D, Flatten, Dense, Dropout\n",
        "from keras.callbacks import EarlyStopping\n",
        "mycallbacks=[EarlyStopping(monitor='val_loss',patience=5)]#patience=5 il va faire plus d'epochs que patience=2\n",
        "def build_model():\n",
        "    model = Sequential()\n",
        "    # add Convolutional layers\n",
        "    model.add(Conv2D(filters=32, kernel_size=(3,3), activation='relu', padding='valid',))# convolution avant model\n",
        "    model.add(MaxPooling2D(pool_size=(2,2)))\n",
        "    model.add(Conv2D(filters=64, kernel_size=(3,3), activation='relu', padding='valid',))# convolution avant model\n",
        "    model.add(MaxPooling2D(pool_size=(2,2)))\n",
        "    model.add(Conv2D(filters=32, kernel_size=(3,3), activation='relu', padding='valid',))# convolution avant model\n",
        "    model.add(MaxPooling2D(pool_size=(2,2)))\n",
        "    #model.add(Conv2D(filters=32, kernel_size=(3,3), activation='relu', padding='valid',))# convolution avant model\n",
        "    #model.add(MaxPooling2D(pool_size=(2,2))) # si on rajoute une autre couche le maxpooling réduite beaucoup il ne reste plus rien de l'image et donc ça créer une erreur à l'exécution\n",
        "    model.add(Flatten())#ça permet d'introduire des image matrice dans le model, pas besoin de les applâtir (flatten) au préalable comme pour le checkpoint 32\n",
        "    # add dense layers\n",
        "    model.add(Dense(128, activation='relu')),\n",
        "    model.add(Dense(activation='softmax',units=10))#quand on précise activation= et units=...l'ordre n'importe pas, mais \n",
        "    # compile with adam optimizer & categorical_crossentropy loss function\n",
        "    model.compile(optimizer='adam', loss='categorical_crossentropy', metrics=['accuracy'])\n",
        "    return model\n",
        " \n",
        "model = build_model()"
      ],
      "metadata": {
        "id": "9algMGZNeAp6"
      },
      "execution_count": null,
      "outputs": []
    },
    {
      "cell_type": "code",
      "source": [
        "history = model.fit(train_data2, train_labels_cat2, \n",
        "                    epochs=50, batch_size=64,# on a fait epochs=50\n",
        "                    validation_data=(val_data, val_labels),callbacks=mycallbacks)"
      ],
      "metadata": {
        "colab": {
          "base_uri": "https://localhost:8080/"
        },
        "id": "FtFW9Hf-eUKI",
        "outputId": "1189f21b-87a5-41e6-c186-530bb48f28bc"
      },
      "execution_count": null,
      "outputs": [
        {
          "output_type": "stream",
          "name": "stdout",
          "text": [
            "Epoch 1/50\n",
            "844/844 [==============================] - 4s 5ms/step - loss: 0.3141 - accuracy: 0.9026 - val_loss: 0.1072 - val_accuracy: 0.9670\n",
            "Epoch 2/50\n",
            "844/844 [==============================] - 4s 4ms/step - loss: 0.1033 - accuracy: 0.9683 - val_loss: 0.0855 - val_accuracy: 0.9748\n",
            "Epoch 3/50\n",
            "844/844 [==============================] - 4s 4ms/step - loss: 0.0757 - accuracy: 0.9768 - val_loss: 0.0700 - val_accuracy: 0.9773\n",
            "Epoch 4/50\n",
            "844/844 [==============================] - 4s 4ms/step - loss: 0.0604 - accuracy: 0.9812 - val_loss: 0.0670 - val_accuracy: 0.9785\n",
            "Epoch 5/50\n",
            "844/844 [==============================] - 4s 4ms/step - loss: 0.0508 - accuracy: 0.9844 - val_loss: 0.0663 - val_accuracy: 0.9808\n",
            "Epoch 6/50\n",
            "844/844 [==============================] - 4s 5ms/step - loss: 0.0417 - accuracy: 0.9876 - val_loss: 0.0517 - val_accuracy: 0.9830\n",
            "Epoch 7/50\n",
            "844/844 [==============================] - 5s 6ms/step - loss: 0.0367 - accuracy: 0.9886 - val_loss: 0.0652 - val_accuracy: 0.9820\n",
            "Epoch 8/50\n",
            "844/844 [==============================] - 5s 6ms/step - loss: 0.0321 - accuracy: 0.9896 - val_loss: 0.0514 - val_accuracy: 0.9848\n",
            "Epoch 9/50\n",
            "844/844 [==============================] - 5s 5ms/step - loss: 0.0272 - accuracy: 0.9910 - val_loss: 0.0548 - val_accuracy: 0.9863\n",
            "Epoch 10/50\n",
            "844/844 [==============================] - 4s 5ms/step - loss: 0.0240 - accuracy: 0.9924 - val_loss: 0.0497 - val_accuracy: 0.9867\n",
            "Epoch 11/50\n",
            "844/844 [==============================] - 5s 6ms/step - loss: 0.0208 - accuracy: 0.9933 - val_loss: 0.0518 - val_accuracy: 0.9867\n",
            "Epoch 12/50\n",
            "844/844 [==============================] - 5s 6ms/step - loss: 0.0165 - accuracy: 0.9950 - val_loss: 0.0510 - val_accuracy: 0.9868\n",
            "Epoch 13/50\n",
            "844/844 [==============================] - 4s 5ms/step - loss: 0.0174 - accuracy: 0.9939 - val_loss: 0.0534 - val_accuracy: 0.9872\n",
            "Epoch 14/50\n",
            "844/844 [==============================] - 4s 5ms/step - loss: 0.0145 - accuracy: 0.9952 - val_loss: 0.0539 - val_accuracy: 0.9888\n",
            "Epoch 15/50\n",
            "844/844 [==============================] - 5s 6ms/step - loss: 0.0106 - accuracy: 0.9963 - val_loss: 0.0594 - val_accuracy: 0.9865\n"
          ]
        }
      ]
    },
    {
      "cell_type": "markdown",
      "source": [
        "844 c'est le nombre d'instances de training"
      ],
      "metadata": {
        "id": "Las8G6vQY8aN"
      }
    },
    {
      "cell_type": "code",
      "source": [
        "y=model.predict(test_data)\n",
        "y"
      ],
      "metadata": {
        "colab": {
          "base_uri": "https://localhost:8080/"
        },
        "id": "YkO-vtHeVGJw",
        "outputId": "bb00a81e-4413-4ee4-e972-11f736af51da"
      },
      "execution_count": null,
      "outputs": [
        {
          "output_type": "execute_result",
          "data": {
            "text/plain": [
              "array([[1.0349535e-11, 9.9482314e-08, 6.2224314e-07, ..., 9.9999928e-01,\n",
              "        4.2499815e-10, 1.5512130e-10],\n",
              "       [4.0463136e-11, 1.4354741e-13, 1.0000000e+00, ..., 7.9871672e-13,\n",
              "        6.0600288e-14, 2.0032882e-15],\n",
              "       [6.3766428e-09, 9.9998522e-01, 4.5538449e-09, ..., 3.9871489e-07,\n",
              "        5.2518280e-06, 8.3928811e-09],\n",
              "       ...,\n",
              "       [5.5608399e-20, 1.7714348e-13, 2.3318737e-15, ..., 9.8846287e-12,\n",
              "        2.5964200e-12, 7.8561974e-14],\n",
              "       [1.3823123e-06, 2.9957052e-12, 3.3764517e-13, ..., 6.4971834e-12,\n",
              "        3.2991099e-06, 5.7745422e-07],\n",
              "       [3.5574170e-09, 1.1601799e-15, 3.7351999e-06, ..., 4.0025054e-16,\n",
              "        2.5854993e-08, 2.7455668e-10]], dtype=float32)"
            ]
          },
          "metadata": {},
          "execution_count": 16
        }
      ]
    },
    {
      "cell_type": "code",
      "source": [
        "test_loss, test_accuracy = model.evaluate(test_data, test_labels_cat, batch_size=64)\n",
        "print('Test loss: %.4f accuracy: %.4f' % (test_loss, test_accuracy))"
      ],
      "metadata": {
        "id": "CO-J7e3meeOM",
        "colab": {
          "base_uri": "https://localhost:8080/"
        },
        "outputId": "22473462-b889-4054-fdf3-bbdac620e2f3"
      },
      "execution_count": null,
      "outputs": [
        {
          "output_type": "stream",
          "name": "stdout",
          "text": [
            "157/157 [==============================] - 0s 3ms/step - loss: 0.0497 - accuracy: 0.9880\n",
            "Test loss: 0.0497 accuracy: 0.9880\n"
          ]
        }
      ]
    },
    {
      "cell_type": "code",
      "source": [
        "text_labels = ['zero', 'one', 'two', 'three', 'four', 'five', 'six', 'seven', 'eignt', 'nine']# il faut respecter l'odre\n",
        "import matplotlib.pyplot as plt\n",
        "\n",
        "plt.figure()\n",
        "random_index = np.random.randint(0, len(train_digits))\n",
        "plt.imshow(train_digits[random_index], cmap='gray')\n",
        "plt.colorbar()\n",
        "numerical_label = train_labels[random_index]\n",
        "text_description = text_labels[numerical_label]\n",
        "plt.title('True Class: {} (\"{}\")'.format(numerical_label, text_description))\n",
        "\n",
        "plt.gca().grid(False) # il associe chaque image à son label"
      ],
      "metadata": {
        "colab": {
          "base_uri": "https://localhost:8080/",
          "height": 281
        },
        "id": "gNlarGvAOrlM",
        "outputId": "ce49c8bd-85f5-49e6-81da-1d2640b53f62"
      },
      "execution_count": null,
      "outputs": [
        {
          "output_type": "display_data",
          "data": {
            "text/plain": [
              "<Figure size 432x288 with 2 Axes>"
            ],
            "image/png": "[encoded data removed]"
          },
          "metadata": {
            "needs_background": "light"
          }
        }
      ]
    },
    {
      "cell_type": "code",
      "source": [
        "z=np.argmax(y,axis=1)"
      ],
      "metadata": {
        "id": "sgcJa5e-XSXl"
      },
      "execution_count": null,
      "outputs": []
    },
    {
      "cell_type": "code",
      "source": [
        "from keras.backend import argmax\n",
        "plt.figure(figsize=(10,10))\n",
        "for i in range(25):#None\n",
        "    plt.subplot(5,5,i+1)\n",
        "    plt.xticks([])\n",
        "    plt.yticks([])\n",
        "    plt.grid('off')\n",
        "    \n",
        "    img_index = np.random.randint(0, 10000)\n",
        "    plt.imshow(test_digits[img_index], cmap=plt.cm.gray)\n",
        "    \n",
        "    actual_label = int(test_labels[img_index])#None\n",
        "    predicted_label = int(z[img_index])#None\n",
        "    \n",
        "    plt.xlabel(\"Actual: {} ({})\\n Predicted: {} ({})\".format(\n",
        "        actual_label, text_labels[actual_label], predicted_label, text_labels[predicted_label]\n",
        "    ))\n",
        "    \n",
        "plt.tight_layout()\n",
        "plt.show()"
      ],
      "metadata": {
        "colab": {
          "base_uri": "https://localhost:8080/",
          "height": 729
        },
        "id": "MvPpabjDTkFZ",
        "outputId": "b4125f0d-f60c-4611-b837-702b2b17a40d"
      },
      "execution_count": null,
      "outputs": [
        {
          "output_type": "display_data",
          "data": {
            "text/plain": [
              "<Figure size 720x720 with 25 Axes>"
            ],
            "image/png": "[encoded data removed]"
          },
          "metadata": {}
        }
      ]
    },
    {
      "cell_type": "code",
      "source": [
        "model.summary()"
      ],
      "metadata": {
        "colab": {
          "base_uri": "https://localhost:8080/"
        },
        "id": "sWxy1uH9CV6_",
        "outputId": "e2bcdae9-6bb8-4e28-b436-affe9ee6a448"
      },
      "execution_count": null,
      "outputs": [
        {
          "output_type": "stream",
          "name": "stdout",
          "text": [
            "Model: \"sequential_1\"\n",
            "_________________________________________________________________\n",
            " Layer (type)                Output Shape              Param #   \n",
            "=================================================================\n",
            " conv2d_1 (Conv2D)           (None, 26, 26, 32)        320       \n",
            "                                                                 \n",
            " max_pooling2d_1 (MaxPooling  (None, 13, 13, 32)       0         \n",
            " 2D)                                                             \n",
            "                                                                 \n",
            " conv2d_2 (Conv2D)           (None, 11, 11, 64)        18496     \n",
            "                                                                 \n",
            " max_pooling2d_2 (MaxPooling  (None, 5, 5, 64)         0         \n",
            " 2D)                                                             \n",
            "                                                                 \n",
            " conv2d_3 (Conv2D)           (None, 3, 3, 32)          18464     \n",
            "                                                                 \n",
            " max_pooling2d_3 (MaxPooling  (None, 1, 1, 32)         0         \n",
            " 2D)                                                             \n",
            "                                                                 \n",
            " flatten_1 (Flatten)         (None, 32)                0         \n",
            "                                                                 \n",
            " dense_2 (Dense)             (None, 128)               4224      \n",
            "                                                                 \n",
            " dense_3 (Dense)             (None, 10)                1290      \n",
            "                                                                 \n",
            "=================================================================\n",
            "Total params: 42,794\n",
            "Trainable params: 42,794\n",
            "Non-trainable params: 0\n",
            "_________________________________________________________________\n"
          ]
        }
      ]
    },
    {
      "cell_type": "markdown",
      "source": [
        "les paramatères à définir au fitting:\n",
        "\n",
        "4224= (32+1) * 128 # le plus 1 c'est le biais, il est implicite (invisible)\n",
        "\n",
        "320= (3 * 3)+1 * 32 # (3 * 3) dimension du filtre, 32 = nbr de filtre, 1= biais\n",
        "\n",
        "0 (maxpooling) , car il n'y a aucun paramètre on prends juste le max\n",
        "\n",
        "18496=  ((((3 * 3)*32)+1)*64 #32=nbr filtre couche précédente et 64 nbr de filtre couche actuelle, le 1 pour le biais"
      ],
      "metadata": {
        "id": "yv0e8umCdhkY"
      }
    },
    {
      "cell_type": "code",
      "source": [
        "import cv2\n",
        "src2 = cv2.imread('/content/testtt.jpg',cv2.IMREAD_GRAYSCALE)#cv2.IMREAD_GRAYSCALE\n",
        "#src=cv2.cvtColor(src, cv2.COLOR_BGR2RGB)# pour réinverser les couleurs BGR TO RGB, # si on n'utilise pas cv2.IMREAD_GRAYSCALE\n",
        "src2 =cv2.resize(src2,(28,28)) # 28*28 car c'est la dimension des images d'entraînement\n"
      ],
      "metadata": {
        "id": "wL-StTo1bDJa"
      },
      "execution_count": null,
      "outputs": []
    },
    {
      "cell_type": "code",
      "source": [
        "plt.figure(figsize=(10, 8), dpi=80)\n",
        "plt.imshow(src2,cmap='gray')\n",
        "plt.show"
      ],
      "metadata": {
        "colab": {
          "base_uri": "https://localhost:8080/",
          "height": 550
        },
        "id": "KTerpSlUbG7l",
        "outputId": "eddc1e16-e496-48fa-fd15-06d598b4ff25"
      },
      "execution_count": null,
      "outputs": [
        {
          "output_type": "execute_result",
          "data": {
            "text/plain": [
              "<function matplotlib.pyplot.show>"
            ]
          },
          "metadata": {},
          "execution_count": 41
        },
        {
          "output_type": "display_data",
          "data": {
            "text/plain": [
              "<Figure size 800x640 with 1 Axes>"
            ],
            "image/png": "[encoded data removed]"
          },
          "metadata": {
            "needs_background": "light"
          }
        }
      ]
    },
    {
      "cell_type": "code",
      "source": [
        "src2=src2.reshape((-1,28,28,1))#-1 pour qu'il fasse le reshape automatiquement\n",
        "x2=model.predict(src2)\n",
        "t2=np.argmax(x2,axis=1)\n",
        "print(t2)"
      ],
      "metadata": {
        "colab": {
          "base_uri": "https://localhost:8080/"
        },
        "id": "ForBzvyqbRQH",
        "outputId": "67b19058-b293-4bc3-f5cf-bcb299bdfe6e"
      },
      "execution_count": null,
      "outputs": [
        {
          "output_type": "stream",
          "name": "stdout",
          "text": [
            "[8]\n"
          ]
        }
      ]
    },
    {
      "cell_type": "code",
      "source": [
        "text_labels[int(t2)]"
      ],
      "metadata": {
        "colab": {
          "base_uri": "https://localhost:8080/",
          "height": 35
        },
        "id": "wlWI0mrObUTH",
        "outputId": "d5f8310b-18ba-4390-8583-b1b53c7dda03"
      },
      "execution_count": null,
      "outputs": [
        {
          "output_type": "execute_result",
          "data": {
            "text/plain": [
              "'eignt'"
            ],
            "application/vnd.google.colaboratory.intrinsic+json": {
              "type": "string"
            }
          },
          "metadata": {},
          "execution_count": 43
        }
      ]
    },
    {
      "cell_type": "code",
      "source": [
        "import cv2\n",
        "src3 = cv2.imread('/content/image.jpg', cv2.IMREAD_GRAYSCALE)#cv2.IMREAD_GRAYSCALE\n",
        "#src=cv2.cvtColor(src, cv2.COLOR_BGR2RGB)\n",
        "src3 =cv2.resize(src3,(28,28))"
      ],
      "metadata": {
        "id": "UMFhyh6ObY3Q"
      },
      "execution_count": null,
      "outputs": []
    },
    {
      "cell_type": "code",
      "source": [
        "plt.figure(figsize=(10, 8), dpi=80)\n",
        "plt.imshow(src3,cmap='gray')\n",
        "plt.show"
      ],
      "metadata": {
        "colab": {
          "base_uri": "https://localhost:8080/",
          "height": 550
        },
        "id": "JDxwyue4bcBR",
        "outputId": "a5f948eb-ad94-47b5-f614-f9b27b26460c"
      },
      "execution_count": null,
      "outputs": [
        {
          "output_type": "execute_result",
          "data": {
            "text/plain": [
              "<function matplotlib.pyplot.show>"
            ]
          },
          "metadata": {},
          "execution_count": 46
        },
        {
          "output_type": "display_data",
          "data": {
            "text/plain": [
              "<Figure size 800x640 with 1 Axes>"
            ],
            "image/png": "[encoded data removed]"
          },
          "metadata": {
            "needs_background": "light"
          }
        }
      ]
    },
    {
      "cell_type": "code",
      "source": [
        "src3=src3.reshape((-1,28,28,1))#-1 pour qu'il fasse le reshape automatiquement\n",
        "x3=model.predict(src3)\n",
        "t3=np.argmax(x3,axis=1)\n",
        "print(t3)"
      ],
      "metadata": {
        "colab": {
          "base_uri": "https://localhost:8080/"
        },
        "id": "N_P1JMI3b2Cq",
        "outputId": "aaf879e2-c326-4ea7-aab1-f2b37f0e5192"
      },
      "execution_count": null,
      "outputs": [
        {
          "output_type": "stream",
          "name": "stdout",
          "text": [
            "[0]\n"
          ]
        }
      ]
    },
    {
      "cell_type": "code",
      "source": [
        "text_labels[int(t3)]"
      ],
      "metadata": {
        "colab": {
          "base_uri": "https://localhost:8080/",
          "height": 35
        },
        "id": "4Lg5HFEhbnHA",
        "outputId": "8335b41b-634d-4d4c-ede0-129e35f032de"
      },
      "execution_count": null,
      "outputs": [
        {
          "output_type": "execute_result",
          "data": {
            "text/plain": [
              "'zero'"
            ],
            "application/vnd.google.colaboratory.intrinsic+json": {
              "type": "string"
            }
          },
          "metadata": {},
          "execution_count": 48
        }
      ]
    },
    {
      "cell_type": "markdown",
      "source": [
        "**Conclusion :** les images doivent être sur fond noir ressemblant le plus possible à celles du training set"
      ],
      "metadata": {
        "id": "h-J2lqSdLWy4"
      }
    }
  ]
}